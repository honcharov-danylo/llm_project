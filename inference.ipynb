{
 "cells": [
  {
   "cell_type": "code",
   "execution_count": 3,
   "id": "39fd5d49-c91d-4bcd-a979-14a475ef76e9",
   "metadata": {
    "scrolled": true
   },
   "outputs": [],
   "source": [
    "from transformers import AutoModelForCausalLM\n",
    "from peft import PeftModel\n",
    "from transformers import AutoModelForCausalLM, AutoTokenizer, BitsAndBytesConfig\n",
    "\n",
    "# device = \"cpu\" # can be \"cpu\" or \"cuda\n",
    "# inference on cuda takes too much memory"
   ]
  },
  {
   "cell_type": "code",
   "execution_count": 4,
   "id": "e5b7ab50-e721-4340-891e-5ba6d80af1be",
   "metadata": {
    "scrolled": true
   },
   "outputs": [
    {
     "data": {
      "application/vnd.jupyter.widget-view+json": {
       "model_id": "7ed4194f71dc4d02a21e40b9f80dba8e",
       "version_major": 2,
       "version_minor": 0
      },
      "text/plain": [
       "Loading checkpoint shards:   0%|          | 0/2 [00:00<?, ?it/s]"
      ]
     },
     "metadata": {},
     "output_type": "display_data"
    }
   ],
   "source": [
    "\n",
    "base = AutoModelForCausalLM.from_pretrained(\"Qwen/Qwen2.5-3B-Instruct\", device_map=\"auto\")\n",
    "model = PeftModel.from_pretrained(base, \"finetuned_smaller\").to(\"cpu\")\n"
   ]
  },
  {
   "cell_type": "code",
   "execution_count": 5,
   "id": "d0988bee-b900-40e5-acf1-b94c2bc5b417",
   "metadata": {},
   "outputs": [],
   "source": [
    "from transformers import AutoModelForCausalLM, AutoTokenizer, BitsAndBytesConfig\n",
    "\n",
    "tokenizer = AutoTokenizer.from_pretrained(\"finetuned_smaller\", use_fast=True)"
   ]
  },
  {
   "cell_type": "code",
   "execution_count": 6,
   "id": "d575cd3c-ce24-45c4-b258-3efcf399361f",
   "metadata": {},
   "outputs": [],
   "source": [
    "test_prompt_style = \"\"\"Below is an instruction that describes a task, paired with an input that provides further context.\n",
    "Write a response that appropriately completes the request.\n",
    "\n",
    "### Instruction:\n",
    "You are a scientist with advanced knowledge in philosophy and social sciences.\n",
    "Please, write next paragraph for the following text.\n",
    "\n",
    "### Text:\n",
    "{}\n",
    "\n",
    "### Response:\n",
    "\"\"\""
   ]
  },
  {
   "cell_type": "code",
   "execution_count": 7,
   "id": "bbb0e961-b267-4ae2-acfa-f5ae2e92465f",
   "metadata": {},
   "outputs": [],
   "source": [
    "question = \"Moral reasoning is complicated.\""
   ]
  },
  {
   "cell_type": "code",
   "execution_count": 8,
   "id": "b6121e1c-15aa-41fc-ada4-fcda955217b2",
   "metadata": {
    "scrolled": true
   },
   "outputs": [
    {
     "name": "stdout",
     "output_type": "stream",
     "text": [
      "\n",
      "\n",
      "Moral reasoning is complex. It is often misunderstood to be a single thing. Moral reasoning is a process of reflecting on our values, beliefs, and experiences to determine what we believe to be good or bad. In this article, I will attempt to outline some of the complexities of moral reasoning, as well as the most common misunderstandings about it. ## Introduction\n",
      "\n",
      "I will start by discussing the nature of moral reasoning, then move on to discuss the role of reason in moral reasoning, and finally, I will consider the importance of moral reasoning in our lives. ## Moral Reasoning\n",
      "\n",
      "Moral reasoning is often thought of as a process of reflection on our values, beliefs, and experiences to determine what we believe to be good or bad. This process is often understood as the process of determining what we should do, but it can also be understood as the process of determining what we should not do. In this article, I will argue that moral reasoning is more complex than it appears. I will discuss three important aspects of moral reasoning that are often overlooked: (1) The role of reason in moral reasoning; (2) The role of emotion in moral reasoning; and (3) The role of religion in moral reasoning. These topics will be discussed below. ## The Role of Reason in Moral Reasoning\n",
      "\n",
      "The role of reason in moral reasoning has been a topic of much debate. Some philosophers have argued that moral reasoning is simply a process of reflection on our values and beliefs. They would argue that the process of moral reasoning is simply a matter of reflecting on our values and beliefs to determine what we believe to be good or bad. They would argue that we should not act against our conscience, and that we should always follow the commandments of our conscience. Other philosophers have argued that moral reasoning is a process of determining what we should do, and that we should do only what we believe to be good. They would argue that moral reasoning is a process of determining what we should do, and that we should do only what we believe to be good. These philosophers would argue that moral reasoning is a process of determining what we should do, and that we should do only what we believe to be good. ## The Role of Emotion in Moral Reasoning\n",
      "\n",
      "Some philosophers have argued that moral reasoning is a process of determining what we should do, and that we should do only what we believe to be good. They would argue that moral reasoning is a process of determining what we should do, and that we should do only what we believe to be good. These philosophers would argue that moral reasoning is a process of determining what we should do, and that we should do only what we believe to be good. These philosophers would argue that moral reasoning is a process of determining what we should do, and that we should do only what we believe to be good. Some philosophers have argued that moral reasoning is a process of determining what we should do, and that we should do only what we believe to be good. These philosophers would argue that moral reasoning is a process of determining what we should do, and that we should do only what we believe to be good. These philosophers would argue that moral reasoning is a process of determining what we should do, and that we should do only what we believe to be good. These philosophers would argue that moral reasoning is a process of determining what we should do, and that we should do only what we believe to be good. These philosophers would argue that moral reasoning is a process of determining what we should do, and that we should do only what we believe to be good. These philosophers would argue that moral reasoning is a process of determining what we should do, and that we should do only what we believe to be good. These philosophers would argue that moral reasoning is a process of determining what we should do, and that we should do only what we believe to be good. These philosophers would argue that moral reasoning is a process of determining what we should do, and that we should do only what we believe to be good. These philosophers would argue that moral reasoning is a process of determining what we should do, and that we should do only what we believe to be good. These philosophers would argue that moral reasoning is a process of determining what we should do, and that we should do only what we believe to be good. These philosophers would argue that moral reasoning is a process of determining what we should do, and that we should do only what we believe to be good. These philosophers would argue that moral reasoning is a process of determining what we should do, and that we should do only what we believe to be good. These philosophers would argue that moral reasoning is a process of determining what we should do, and that we should do only what we believe to be good. These philosophers would argue that moral reasoning is a process of determining what we should do, and that we should do only what we believe to be good. These philosophers would argue that moral reasoning is a process of determining what we should do, and that we should do only what we believe to be good. These philosophers would argue that moral reasoning is a process of determining what we should do, and that we should do only what we believe to be good. These philosophers would argue that moral reasoning is a process of determining what we should do, and that we should do only what we believe to be good. These philosophers would argue that moral reasoning is a process of determining what we should do, and that we should do only what we believe to be good. These philosophers would argue that moral reasoning is a process of determining what we should do, and that we should do only what we believe to be good. These philosophers would argue that moral reasoning is a process of determining what we should do, and that we should do only what we believe to be good. These philosophers would argue that moral reasoning is a process of determining what we should do, and that we should do only what we believe to be\n"
     ]
    }
   ],
   "source": [
    "inputs = tokenizer(\n",
    "    [test_prompt_style.format(question) + tokenizer.eos_token],\n",
    "    return_tensors=\"pt\"\n",
    ").to(\"cpu\")\n",
    "\n",
    "outputs = model.generate(\n",
    "    input_ids=inputs.input_ids,\n",
    "    attention_mask=inputs.attention_mask,\n",
    "    max_new_tokens=1200,\n",
    "    eos_token_id=tokenizer.eos_token_id,\n",
    "    use_cache=True,\n",
    ")\n",
    "response = tokenizer.batch_decode(outputs, skip_special_tokens=True)\n",
    "print(response[0].split(\"### Response:\")[1])"
   ]
  },
  {
   "cell_type": "code",
   "execution_count": null,
   "id": "c9adf00f-15e6-4bd0-94a7-fc36d4a186fa",
   "metadata": {},
   "outputs": [],
   "source": []
  }
 ],
 "metadata": {
  "kernelspec": {
   "display_name": "Python 3 (ipykernel)",
   "language": "python",
   "name": "python3"
  },
  "language_info": {
   "codemirror_mode": {
    "name": "ipython",
    "version": 3
   },
   "file_extension": ".py",
   "mimetype": "text/x-python",
   "name": "python",
   "nbconvert_exporter": "python",
   "pygments_lexer": "ipython3",
   "version": "3.12.9"
  }
 },
 "nbformat": 4,
 "nbformat_minor": 5
}
