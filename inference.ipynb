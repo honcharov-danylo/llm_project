{
 "cells": [
  {
   "cell_type": "code",
   "execution_count": null,
   "id": "39fd5d49-c91d-4bcd-a979-14a475ef76e9",
   "metadata": {
    "scrolled": true
   },
   "outputs": [],
   "source": [
    "from transformers import AutoModelForCausalLM, AutoTokenizer\n",
    "\n",
    "from peft import PeftModel\n",
    "DEVICE = \"mps\" # ← adjust to \"cpu\", \"cuda\" etc. (I tested cpu, cuda, mps)"
   ]
  },
  {
   "cell_type": "code",
   "execution_count": 2,
   "id": "f8212414",
   "metadata": {},
   "outputs": [
    {
     "data": {
      "application/vnd.jupyter.widget-view+json": {
       "model_id": "259d79008cd3407d9d341049ab25a55e",
       "version_major": 2,
       "version_minor": 0
      },
      "text/plain": [
       "Loading checkpoint shards:   0%|          | 0/2 [00:00<?, ?it/s]"
      ]
     },
     "metadata": {},
     "output_type": "display_data"
    }
   ],
   "source": [
    "base = AutoModelForCausalLM.from_pretrained(\"Qwen/Qwen2.5-3B-Instruct\", device_map=DEVICE)"
   ]
  },
  {
   "cell_type": "code",
   "execution_count": 3,
   "id": "afc2b102",
   "metadata": {},
   "outputs": [],
   "source": [
    "model = PeftModel.from_pretrained(base, \"models/finetuned_smaller\").to(DEVICE)\n",
    "tokenizer = AutoTokenizer.from_pretrained(\"models/finetuned_smaller\", use_fast=True)"
   ]
  },
  {
   "cell_type": "code",
   "execution_count": 4,
   "id": "d575cd3c-ce24-45c4-b258-3efcf399361f",
   "metadata": {},
   "outputs": [],
   "source": [
    "test_prompt_style = \"\"\"Below is an instruction that describes a task, paired with an input that provides further context.\n",
    "Write a response that appropriately completes the request.\n",
    "\n",
    "### Instruction:\n",
    "You are a scientist with advanced knowledge in philosophy and social sciences.\n",
    "Please, write next paragraph for the following text.\n",
    "\n",
    "### Text:\n",
    "{}\n",
    "\n",
    "### Response:\n",
    "\"\"\""
   ]
  },
  {
   "cell_type": "code",
   "execution_count": 5,
   "id": "bbb0e961-b267-4ae2-acfa-f5ae2e92465f",
   "metadata": {},
   "outputs": [],
   "source": [
    "question = \"Moral reasoning is complicated.\""
   ]
  },
  {
   "cell_type": "code",
   "execution_count": 7,
   "id": "b6121e1c-15aa-41fc-ada4-fcda955217b2",
   "metadata": {
    "scrolled": true
   },
   "outputs": [
    {
     "name": "stdout",
     "output_type": "stream",
     "text": [
      "\n",
      "\n",
      "## The Philosophy of Moral Reasoning\n",
      "\n",
      "Philosophical work on moral reasoning has been ongoing since antiquity. In particular there have often been two main areas of research: one area focuses on issues related to ethics proper; another concentrates on philosophical theories or practical problems encountered by people who make decisions about ethical matters. Ethical theorists frequently emphasize three different themes (although not all philosophers necessarily agree): first, they argue that morality must be founded upon reasonableness rather than rule-following; secondly, as a matter of principle it ought to apply equally to everyone regardless of whether others follow its dictates either because they accept them or do so out of obligation; thirdly, the idea is that we need justification even when our intuitions don't support us – e.g., why does a person feel wronged after she's cheated? This article will focus primarily on the latter theme — how moral reasons should justify actions without regard to what rules say. We'll consider some specific questions raised along these lines. ## Rule Following vs. Justification\n",
      "\n",
      "In recent decades much philosophical debate has focused around this question: How can justice principles such as fairness or equality motivate action if no general set of rules governs human conduct? One answer might seem obvious: \"If you want something done right then someone else did it wrong.\" But at least a few thinkers in ancient Greece believed otherwise: namely Aristotle himself (\"the man from whom everything comes forth\"), Epicurus (\"I am happy,\" \"I know nothing but I know happiness\" [and he had his share]), Marcus Aurelius, Augustine, and Aquinas thought similarly. Indeed, several major figures from diverse fields were deeply concerned with justifying their own views using arguments based upon natural law. So it seems fair enough to expect that most prominent contemporary ethicists would also endorse this view. And yet today many important writers on ethics claim to ground decision making in moral theory while doing little more than repeating old chestnuts found in earlier literature. If you're interested only in finding new insights into topics like utilitarianism versus Kantianism, however, perhaps you shouldn't worry too much over any other detail except the fact that your analysis rests on Aristotelian foundations. After all, nobody ever heard anything better said concerning virtue than Hesperus was indeed Phosphorus. # Moral Reasons & Justice Principles\n",
      "\n",
      "To begin, let's suppose you believe that certain things are unjustified morally speaking despite having been justified to others. It follows that you probably think some cases where injustice occurs aren't morally acceptable, though those acts may well violate norms governing interpersonal relations among individuals. For example, if someone kills another individual during self-defense against attack, or commits perjury due to personal pressure from friends, family members, colleagues etcetera ,that act isn't considered morally justifiable unless there exists sufficient evidence that the defendant acted under compulsion beyond her control . To see why this is true note that although each case involves clear motivation toward ends satisfying the relevant laws of nature—motivating behavior according to both religious and secular codes—it doesn't provide grounds for justification within the prevailing legal system which places equal weight on legality and efficacy. Thus although persons committing murder or deception clearly satisfy normative requirements of justice (they harm society), neither jurist nor psychologist agrees that their actions deserve protection or punishment. Hence the problem here concerns deciding how best to explain situations involving injustice. Although every philosopher disagrees somewhat regarding how rationalizing processes operate differently across domains like religion or jurisprudence, there are nevertheless common elements underlying various accounts of explanation. Some scholars maintain that moral considerations require acting consistently with whatever basic values constitute good character traits–so-called virtues. Others insist instead that people behave inconsistently between contexts depending mainly on psychological motives –for instance fear, greed, lust for power, envy, hatred, pride/ego, shame, desire/fear of revenge, etcetera—and thus fail to respect themselves or others in ways dictated by higher standards. Still others point out that explaining why anyone behaves unreasonably requires distinguishing between internal states and external conditions—a distinction usually attributed to Aristotle. They tend to find explanations focusing solely on behavioral factors difficult to square up internally in terms of introspective experiences. Allowing them room to maneuver makes sense, nonetheless. Because unlike many political scientists, sociologists, psychologists, historians, economists, political philosophers and public intellectuals—who often disagree strongly about almost any issue put before them—the authors of articles published elsewhere already live life subjectively guided largely by moral ideals. Their commitment to integrity explains why readers could reasonably wonder whether they deserved praise or blame in relation to their past activities. Since humans engage in myriad behaviors throughout lifetimes ranging widely through space-time dimensions, it'd appear unlikely that there would exist a universal standard capable of measuring satisfactorily nearly everybody's performance. That means that no single criterion suffices to assess a given action fairly. Even worse, sometimes people try to convince others to help bring about outcomes contrary to their beliefs! Moreover, no objective measure satisfies all plausible criteria suggested above. Nor can it possibly serve effectively to punish criminals. Finally, it appears necessary to develop alternative methods of assessing actions whose content differs greatly in kind from ordinary ones used to evaluate civil rights violations, racial discrimination, sexual harassment, gender-based violence, slavery, forced marriage, sex trafficking, domestic abuse, rape, incest, child pornography, female genital mutilation/mutilations/circumcision, forced sterilization, torture, genocide, ethnic cleansing and state-sponsored mass killing. Such deviations occur quite regularly in many societies worldwide. Yet once again we hear voices calling for non-legalistic alternatives to existing standards—which mean roughly the same thing anyway—to be applied universally. There are plenty examples here:\n",
      "\n",
      "Sometimes academics propose measures grounded in traditional ideas borrowed heavily from Christian theology; others turn to Buddhist teachings. Sometimes researchers draw inspiration from Eastern traditions and religions; occasionally experts invoke Hindu practices. Occasionally still folks cite Islamic precedents. Other times critics call upon Confucian texts\n"
     ]
    }
   ],
   "source": [
    "inputs = tokenizer(\n",
    "    [test_prompt_style.format(question) + tokenizer.eos_token],\n",
    "    return_tensors=\"pt\"\n",
    ").to(DEVICE)\n",
    "\n",
    "outputs = model.generate(\n",
    "    input_ids=inputs.input_ids,\n",
    "    attention_mask=inputs.attention_mask,\n",
    "    max_new_tokens=1200,\n",
    "    eos_token_id=tokenizer.eos_token_id,\n",
    "    use_cache=True,\n",
    "    do_sample=True,           # ← enable sampling\n",
    "    temperature=0.7,          # ← randomness control, 0.7–1.0 works well\n",
    "    top_k=50,                 # ← limit sampling to top 50 tokens\n",
    "    top_p=0.9,                # ← or use nucleus sampling\n",
    "    repetition_penalty=1.2,   # ← discourage loops and repeats\n",
    ")\n",
    "response = tokenizer.batch_decode(outputs, skip_special_tokens=True)\n",
    "print(response[0].split(\"### Response:\")[1])"
   ]
  }
 ],
 "metadata": {
  "kernelspec": {
   "display_name": "llminfer",
   "language": "python",
   "name": "python3"
  },
  "language_info": {
   "codemirror_mode": {
    "name": "ipython",
    "version": 3
   },
   "file_extension": ".py",
   "mimetype": "text/x-python",
   "name": "python",
   "nbconvert_exporter": "python",
   "pygments_lexer": "ipython3",
   "version": "3.13.5"
  }
 },
 "nbformat": 4,
 "nbformat_minor": 5
}
